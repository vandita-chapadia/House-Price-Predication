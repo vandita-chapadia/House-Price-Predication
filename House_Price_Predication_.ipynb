{
  "nbformat": 4,
  "nbformat_minor": 0,
  "metadata": {
    "colab": {
      "name": "House Price Predication .ipynb",
      "provenance": []
    },
    "kernelspec": {
      "name": "python3",
      "display_name": "Python 3"
    },
    "language_info": {
      "name": "python"
    }
  },
  "cells": [
    {
      "cell_type": "code",
      "metadata": {
        "id": "vaNgXNaK3MR8"
      },
      "source": [
        "import pandas as pd\n",
        "import matplotlib\n",
        "import seaborn as sns"
      ],
      "execution_count": 1,
      "outputs": []
    },
    {
      "cell_type": "code",
      "metadata": {
        "id": "_SorPehf3YvR"
      },
      "source": [
        "data=pd.read_csv(\"/content/sample_data/kc_house_data.csv\")"
      ],
      "execution_count": 2,
      "outputs": []
    },
    {
      "cell_type": "code",
      "metadata": {
        "colab": {
          "base_uri": "https://localhost:8080/",
          "height": 223
        },
        "id": "NBA3YI-z3ZNn",
        "outputId": "644e31fa-d312-4e0f-a49d-08639e719cdf"
      },
      "source": [
        "data.head()"
      ],
      "execution_count": 3,
      "outputs": [
        {
          "output_type": "execute_result",
          "data": {
            "text/html": [
              "<div>\n",
              "<style scoped>\n",
              "    .dataframe tbody tr th:only-of-type {\n",
              "        vertical-align: middle;\n",
              "    }\n",
              "\n",
              "    .dataframe tbody tr th {\n",
              "        vertical-align: top;\n",
              "    }\n",
              "\n",
              "    .dataframe thead th {\n",
              "        text-align: right;\n",
              "    }\n",
              "</style>\n",
              "<table border=\"1\" class=\"dataframe\">\n",
              "  <thead>\n",
              "    <tr style=\"text-align: right;\">\n",
              "      <th></th>\n",
              "      <th>id</th>\n",
              "      <th>date</th>\n",
              "      <th>price</th>\n",
              "      <th>bedrooms</th>\n",
              "      <th>bathrooms</th>\n",
              "      <th>sqft_living</th>\n",
              "      <th>sqft_lot</th>\n",
              "      <th>floors</th>\n",
              "      <th>waterfront</th>\n",
              "      <th>view</th>\n",
              "      <th>condition</th>\n",
              "      <th>grade</th>\n",
              "      <th>sqft_above</th>\n",
              "      <th>sqft_basement</th>\n",
              "      <th>yr_built</th>\n",
              "      <th>yr_renovated</th>\n",
              "      <th>zipcode</th>\n",
              "      <th>lat</th>\n",
              "      <th>long</th>\n",
              "      <th>sqft_living15</th>\n",
              "      <th>sqft_lot15</th>\n",
              "    </tr>\n",
              "  </thead>\n",
              "  <tbody>\n",
              "    <tr>\n",
              "      <th>0</th>\n",
              "      <td>7129300520</td>\n",
              "      <td>20141013T000000</td>\n",
              "      <td>221900.0</td>\n",
              "      <td>3</td>\n",
              "      <td>1.00</td>\n",
              "      <td>1180</td>\n",
              "      <td>5650</td>\n",
              "      <td>1.0</td>\n",
              "      <td>0</td>\n",
              "      <td>0</td>\n",
              "      <td>3</td>\n",
              "      <td>7</td>\n",
              "      <td>1180</td>\n",
              "      <td>0</td>\n",
              "      <td>1955</td>\n",
              "      <td>0</td>\n",
              "      <td>98178</td>\n",
              "      <td>47.5112</td>\n",
              "      <td>-122.257</td>\n",
              "      <td>1340</td>\n",
              "      <td>5650</td>\n",
              "    </tr>\n",
              "    <tr>\n",
              "      <th>1</th>\n",
              "      <td>6414100192</td>\n",
              "      <td>20141209T000000</td>\n",
              "      <td>538000.0</td>\n",
              "      <td>3</td>\n",
              "      <td>2.25</td>\n",
              "      <td>2570</td>\n",
              "      <td>7242</td>\n",
              "      <td>2.0</td>\n",
              "      <td>0</td>\n",
              "      <td>0</td>\n",
              "      <td>3</td>\n",
              "      <td>7</td>\n",
              "      <td>2170</td>\n",
              "      <td>400</td>\n",
              "      <td>1951</td>\n",
              "      <td>1991</td>\n",
              "      <td>98125</td>\n",
              "      <td>47.7210</td>\n",
              "      <td>-122.319</td>\n",
              "      <td>1690</td>\n",
              "      <td>7639</td>\n",
              "    </tr>\n",
              "    <tr>\n",
              "      <th>2</th>\n",
              "      <td>5631500400</td>\n",
              "      <td>20150225T000000</td>\n",
              "      <td>180000.0</td>\n",
              "      <td>2</td>\n",
              "      <td>1.00</td>\n",
              "      <td>770</td>\n",
              "      <td>10000</td>\n",
              "      <td>1.0</td>\n",
              "      <td>0</td>\n",
              "      <td>0</td>\n",
              "      <td>3</td>\n",
              "      <td>6</td>\n",
              "      <td>770</td>\n",
              "      <td>0</td>\n",
              "      <td>1933</td>\n",
              "      <td>0</td>\n",
              "      <td>98028</td>\n",
              "      <td>47.7379</td>\n",
              "      <td>-122.233</td>\n",
              "      <td>2720</td>\n",
              "      <td>8062</td>\n",
              "    </tr>\n",
              "    <tr>\n",
              "      <th>3</th>\n",
              "      <td>2487200875</td>\n",
              "      <td>20141209T000000</td>\n",
              "      <td>604000.0</td>\n",
              "      <td>4</td>\n",
              "      <td>3.00</td>\n",
              "      <td>1960</td>\n",
              "      <td>5000</td>\n",
              "      <td>1.0</td>\n",
              "      <td>0</td>\n",
              "      <td>0</td>\n",
              "      <td>5</td>\n",
              "      <td>7</td>\n",
              "      <td>1050</td>\n",
              "      <td>910</td>\n",
              "      <td>1965</td>\n",
              "      <td>0</td>\n",
              "      <td>98136</td>\n",
              "      <td>47.5208</td>\n",
              "      <td>-122.393</td>\n",
              "      <td>1360</td>\n",
              "      <td>5000</td>\n",
              "    </tr>\n",
              "    <tr>\n",
              "      <th>4</th>\n",
              "      <td>1954400510</td>\n",
              "      <td>20150218T000000</td>\n",
              "      <td>510000.0</td>\n",
              "      <td>3</td>\n",
              "      <td>2.00</td>\n",
              "      <td>1680</td>\n",
              "      <td>8080</td>\n",
              "      <td>1.0</td>\n",
              "      <td>0</td>\n",
              "      <td>0</td>\n",
              "      <td>3</td>\n",
              "      <td>8</td>\n",
              "      <td>1680</td>\n",
              "      <td>0</td>\n",
              "      <td>1987</td>\n",
              "      <td>0</td>\n",
              "      <td>98074</td>\n",
              "      <td>47.6168</td>\n",
              "      <td>-122.045</td>\n",
              "      <td>1800</td>\n",
              "      <td>7503</td>\n",
              "    </tr>\n",
              "  </tbody>\n",
              "</table>\n",
              "</div>"
            ],
            "text/plain": [
              "           id             date     price  ...     long  sqft_living15  sqft_lot15\n",
              "0  7129300520  20141013T000000  221900.0  ... -122.257           1340        5650\n",
              "1  6414100192  20141209T000000  538000.0  ... -122.319           1690        7639\n",
              "2  5631500400  20150225T000000  180000.0  ... -122.233           2720        8062\n",
              "3  2487200875  20141209T000000  604000.0  ... -122.393           1360        5000\n",
              "4  1954400510  20150218T000000  510000.0  ... -122.045           1800        7503\n",
              "\n",
              "[5 rows x 21 columns]"
            ]
          },
          "metadata": {
            "tags": []
          },
          "execution_count": 3
        }
      ]
    },
    {
      "cell_type": "code",
      "metadata": {
        "colab": {
          "base_uri": "https://localhost:8080/"
        },
        "id": "m4G70m6I3ZRO",
        "outputId": "a9846f7b-91b3-4f7d-ff68-7750326a6002"
      },
      "source": [
        "data.shape"
      ],
      "execution_count": 4,
      "outputs": [
        {
          "output_type": "execute_result",
          "data": {
            "text/plain": [
              "(21613, 21)"
            ]
          },
          "metadata": {
            "tags": []
          },
          "execution_count": 4
        }
      ]
    },
    {
      "cell_type": "code",
      "metadata": {
        "id": "Mgm0Sx9P303j"
      },
      "source": [
        "\n",
        "pd.set_option('display.float_format', lambda x: '%.5f' % x)"
      ],
      "execution_count": 5,
      "outputs": []
    },
    {
      "cell_type": "code",
      "metadata": {
        "colab": {
          "base_uri": "https://localhost:8080/",
          "height": 315
        },
        "id": "9vB2982j31i5",
        "outputId": "7078329c-a6ce-4196-8dd4-53dd9bd5594f"
      },
      "source": [
        "data.describe()"
      ],
      "execution_count": 6,
      "outputs": [
        {
          "output_type": "execute_result",
          "data": {
            "text/html": [
              "<div>\n",
              "<style scoped>\n",
              "    .dataframe tbody tr th:only-of-type {\n",
              "        vertical-align: middle;\n",
              "    }\n",
              "\n",
              "    .dataframe tbody tr th {\n",
              "        vertical-align: top;\n",
              "    }\n",
              "\n",
              "    .dataframe thead th {\n",
              "        text-align: right;\n",
              "    }\n",
              "</style>\n",
              "<table border=\"1\" class=\"dataframe\">\n",
              "  <thead>\n",
              "    <tr style=\"text-align: right;\">\n",
              "      <th></th>\n",
              "      <th>id</th>\n",
              "      <th>price</th>\n",
              "      <th>bedrooms</th>\n",
              "      <th>bathrooms</th>\n",
              "      <th>sqft_living</th>\n",
              "      <th>sqft_lot</th>\n",
              "      <th>floors</th>\n",
              "      <th>waterfront</th>\n",
              "      <th>view</th>\n",
              "      <th>condition</th>\n",
              "      <th>grade</th>\n",
              "      <th>sqft_above</th>\n",
              "      <th>sqft_basement</th>\n",
              "      <th>yr_built</th>\n",
              "      <th>yr_renovated</th>\n",
              "      <th>zipcode</th>\n",
              "      <th>lat</th>\n",
              "      <th>long</th>\n",
              "      <th>sqft_living15</th>\n",
              "      <th>sqft_lot15</th>\n",
              "    </tr>\n",
              "  </thead>\n",
              "  <tbody>\n",
              "    <tr>\n",
              "      <th>count</th>\n",
              "      <td>21613.00000</td>\n",
              "      <td>21613.00000</td>\n",
              "      <td>21613.00000</td>\n",
              "      <td>21613.00000</td>\n",
              "      <td>21613.00000</td>\n",
              "      <td>21613.00000</td>\n",
              "      <td>21613.00000</td>\n",
              "      <td>21613.00000</td>\n",
              "      <td>21613.00000</td>\n",
              "      <td>21613.00000</td>\n",
              "      <td>21613.00000</td>\n",
              "      <td>21613.00000</td>\n",
              "      <td>21613.00000</td>\n",
              "      <td>21613.00000</td>\n",
              "      <td>21613.00000</td>\n",
              "      <td>21613.00000</td>\n",
              "      <td>21613.00000</td>\n",
              "      <td>21613.00000</td>\n",
              "      <td>21613.00000</td>\n",
              "      <td>21613.00000</td>\n",
              "    </tr>\n",
              "    <tr>\n",
              "      <th>mean</th>\n",
              "      <td>4580301520.86499</td>\n",
              "      <td>540088.14177</td>\n",
              "      <td>3.37084</td>\n",
              "      <td>2.11476</td>\n",
              "      <td>2079.89974</td>\n",
              "      <td>15106.96757</td>\n",
              "      <td>1.49431</td>\n",
              "      <td>0.00754</td>\n",
              "      <td>0.23430</td>\n",
              "      <td>3.40943</td>\n",
              "      <td>7.65687</td>\n",
              "      <td>1788.39069</td>\n",
              "      <td>291.50905</td>\n",
              "      <td>1971.00514</td>\n",
              "      <td>84.40226</td>\n",
              "      <td>98077.93980</td>\n",
              "      <td>47.56005</td>\n",
              "      <td>-122.21390</td>\n",
              "      <td>1986.55249</td>\n",
              "      <td>12768.45565</td>\n",
              "    </tr>\n",
              "    <tr>\n",
              "      <th>std</th>\n",
              "      <td>2876565571.31205</td>\n",
              "      <td>367127.19648</td>\n",
              "      <td>0.93006</td>\n",
              "      <td>0.77016</td>\n",
              "      <td>918.44090</td>\n",
              "      <td>41420.51152</td>\n",
              "      <td>0.53999</td>\n",
              "      <td>0.08652</td>\n",
              "      <td>0.76632</td>\n",
              "      <td>0.65074</td>\n",
              "      <td>1.17546</td>\n",
              "      <td>828.09098</td>\n",
              "      <td>442.57504</td>\n",
              "      <td>29.37341</td>\n",
              "      <td>401.67924</td>\n",
              "      <td>53.50503</td>\n",
              "      <td>0.13856</td>\n",
              "      <td>0.14083</td>\n",
              "      <td>685.39130</td>\n",
              "      <td>27304.17963</td>\n",
              "    </tr>\n",
              "    <tr>\n",
              "      <th>min</th>\n",
              "      <td>1000102.00000</td>\n",
              "      <td>75000.00000</td>\n",
              "      <td>0.00000</td>\n",
              "      <td>0.00000</td>\n",
              "      <td>290.00000</td>\n",
              "      <td>520.00000</td>\n",
              "      <td>1.00000</td>\n",
              "      <td>0.00000</td>\n",
              "      <td>0.00000</td>\n",
              "      <td>1.00000</td>\n",
              "      <td>1.00000</td>\n",
              "      <td>290.00000</td>\n",
              "      <td>0.00000</td>\n",
              "      <td>1900.00000</td>\n",
              "      <td>0.00000</td>\n",
              "      <td>98001.00000</td>\n",
              "      <td>47.15590</td>\n",
              "      <td>-122.51900</td>\n",
              "      <td>399.00000</td>\n",
              "      <td>651.00000</td>\n",
              "    </tr>\n",
              "    <tr>\n",
              "      <th>25%</th>\n",
              "      <td>2123049194.00000</td>\n",
              "      <td>321950.00000</td>\n",
              "      <td>3.00000</td>\n",
              "      <td>1.75000</td>\n",
              "      <td>1427.00000</td>\n",
              "      <td>5040.00000</td>\n",
              "      <td>1.00000</td>\n",
              "      <td>0.00000</td>\n",
              "      <td>0.00000</td>\n",
              "      <td>3.00000</td>\n",
              "      <td>7.00000</td>\n",
              "      <td>1190.00000</td>\n",
              "      <td>0.00000</td>\n",
              "      <td>1951.00000</td>\n",
              "      <td>0.00000</td>\n",
              "      <td>98033.00000</td>\n",
              "      <td>47.47100</td>\n",
              "      <td>-122.32800</td>\n",
              "      <td>1490.00000</td>\n",
              "      <td>5100.00000</td>\n",
              "    </tr>\n",
              "    <tr>\n",
              "      <th>50%</th>\n",
              "      <td>3904930410.00000</td>\n",
              "      <td>450000.00000</td>\n",
              "      <td>3.00000</td>\n",
              "      <td>2.25000</td>\n",
              "      <td>1910.00000</td>\n",
              "      <td>7618.00000</td>\n",
              "      <td>1.50000</td>\n",
              "      <td>0.00000</td>\n",
              "      <td>0.00000</td>\n",
              "      <td>3.00000</td>\n",
              "      <td>7.00000</td>\n",
              "      <td>1560.00000</td>\n",
              "      <td>0.00000</td>\n",
              "      <td>1975.00000</td>\n",
              "      <td>0.00000</td>\n",
              "      <td>98065.00000</td>\n",
              "      <td>47.57180</td>\n",
              "      <td>-122.23000</td>\n",
              "      <td>1840.00000</td>\n",
              "      <td>7620.00000</td>\n",
              "    </tr>\n",
              "    <tr>\n",
              "      <th>75%</th>\n",
              "      <td>7308900445.00000</td>\n",
              "      <td>645000.00000</td>\n",
              "      <td>4.00000</td>\n",
              "      <td>2.50000</td>\n",
              "      <td>2550.00000</td>\n",
              "      <td>10688.00000</td>\n",
              "      <td>2.00000</td>\n",
              "      <td>0.00000</td>\n",
              "      <td>0.00000</td>\n",
              "      <td>4.00000</td>\n",
              "      <td>8.00000</td>\n",
              "      <td>2210.00000</td>\n",
              "      <td>560.00000</td>\n",
              "      <td>1997.00000</td>\n",
              "      <td>0.00000</td>\n",
              "      <td>98118.00000</td>\n",
              "      <td>47.67800</td>\n",
              "      <td>-122.12500</td>\n",
              "      <td>2360.00000</td>\n",
              "      <td>10083.00000</td>\n",
              "    </tr>\n",
              "    <tr>\n",
              "      <th>max</th>\n",
              "      <td>9900000190.00000</td>\n",
              "      <td>7700000.00000</td>\n",
              "      <td>33.00000</td>\n",
              "      <td>8.00000</td>\n",
              "      <td>13540.00000</td>\n",
              "      <td>1651359.00000</td>\n",
              "      <td>3.50000</td>\n",
              "      <td>1.00000</td>\n",
              "      <td>4.00000</td>\n",
              "      <td>5.00000</td>\n",
              "      <td>13.00000</td>\n",
              "      <td>9410.00000</td>\n",
              "      <td>4820.00000</td>\n",
              "      <td>2015.00000</td>\n",
              "      <td>2015.00000</td>\n",
              "      <td>98199.00000</td>\n",
              "      <td>47.77760</td>\n",
              "      <td>-121.31500</td>\n",
              "      <td>6210.00000</td>\n",
              "      <td>871200.00000</td>\n",
              "    </tr>\n",
              "  </tbody>\n",
              "</table>\n",
              "</div>"
            ],
            "text/plain": [
              "                    id         price  ...  sqft_living15   sqft_lot15\n",
              "count      21613.00000   21613.00000  ...    21613.00000  21613.00000\n",
              "mean  4580301520.86499  540088.14177  ...     1986.55249  12768.45565\n",
              "std   2876565571.31205  367127.19648  ...      685.39130  27304.17963\n",
              "min      1000102.00000   75000.00000  ...      399.00000    651.00000\n",
              "25%   2123049194.00000  321950.00000  ...     1490.00000   5100.00000\n",
              "50%   3904930410.00000  450000.00000  ...     1840.00000   7620.00000\n",
              "75%   7308900445.00000  645000.00000  ...     2360.00000  10083.00000\n",
              "max   9900000190.00000 7700000.00000  ...     6210.00000 871200.00000\n",
              "\n",
              "[8 rows x 20 columns]"
            ]
          },
          "metadata": {
            "tags": []
          },
          "execution_count": 6
        }
      ]
    },
    {
      "cell_type": "code",
      "metadata": {
        "colab": {
          "base_uri": "https://localhost:8080/"
        },
        "id": "jk8vQecL31mS",
        "outputId": "697e74af-2e70-4b19-ff0c-d352962787d3"
      },
      "source": [
        "\n",
        "data.info()"
      ],
      "execution_count": 7,
      "outputs": [
        {
          "output_type": "stream",
          "text": [
            "<class 'pandas.core.frame.DataFrame'>\n",
            "RangeIndex: 21613 entries, 0 to 21612\n",
            "Data columns (total 21 columns):\n",
            " #   Column         Non-Null Count  Dtype  \n",
            "---  ------         --------------  -----  \n",
            " 0   id             21613 non-null  int64  \n",
            " 1   date           21613 non-null  object \n",
            " 2   price          21613 non-null  float64\n",
            " 3   bedrooms       21613 non-null  int64  \n",
            " 4   bathrooms      21613 non-null  float64\n",
            " 5   sqft_living    21613 non-null  int64  \n",
            " 6   sqft_lot       21613 non-null  int64  \n",
            " 7   floors         21613 non-null  float64\n",
            " 8   waterfront     21613 non-null  int64  \n",
            " 9   view           21613 non-null  int64  \n",
            " 10  condition      21613 non-null  int64  \n",
            " 11  grade          21613 non-null  int64  \n",
            " 12  sqft_above     21613 non-null  int64  \n",
            " 13  sqft_basement  21613 non-null  int64  \n",
            " 14  yr_built       21613 non-null  int64  \n",
            " 15  yr_renovated   21613 non-null  int64  \n",
            " 16  zipcode        21613 non-null  int64  \n",
            " 17  lat            21613 non-null  float64\n",
            " 18  long           21613 non-null  float64\n",
            " 19  sqft_living15  21613 non-null  int64  \n",
            " 20  sqft_lot15     21613 non-null  int64  \n",
            "dtypes: float64(5), int64(15), object(1)\n",
            "memory usage: 3.5+ MB\n"
          ],
          "name": "stdout"
        }
      ]
    },
    {
      "cell_type": "code",
      "metadata": {
        "colab": {
          "base_uri": "https://localhost:8080/"
        },
        "id": "HwhTcT1q4EkY",
        "outputId": "c8984bb1-a5db-403d-f98e-4428598ed98f"
      },
      "source": [
        "data.isnull().sum()"
      ],
      "execution_count": 8,
      "outputs": [
        {
          "output_type": "execute_result",
          "data": {
            "text/plain": [
              "id               0\n",
              "date             0\n",
              "price            0\n",
              "bedrooms         0\n",
              "bathrooms        0\n",
              "sqft_living      0\n",
              "sqft_lot         0\n",
              "floors           0\n",
              "waterfront       0\n",
              "view             0\n",
              "condition        0\n",
              "grade            0\n",
              "sqft_above       0\n",
              "sqft_basement    0\n",
              "yr_built         0\n",
              "yr_renovated     0\n",
              "zipcode          0\n",
              "lat              0\n",
              "long             0\n",
              "sqft_living15    0\n",
              "sqft_lot15       0\n",
              "dtype: int64"
            ]
          },
          "metadata": {
            "tags": []
          },
          "execution_count": 8
        }
      ]
    },
    {
      "cell_type": "code",
      "metadata": {
        "colab": {
          "base_uri": "https://localhost:8080/"
        },
        "id": "05k7W2Gj4Ez2",
        "outputId": "d92bd58b-adca-4390-a87d-c54ce26244b7"
      },
      "source": [
        "data.columns"
      ],
      "execution_count": 9,
      "outputs": [
        {
          "output_type": "execute_result",
          "data": {
            "text/plain": [
              "Index(['id', 'date', 'price', 'bedrooms', 'bathrooms', 'sqft_living',\n",
              "       'sqft_lot', 'floors', 'waterfront', 'view', 'condition', 'grade',\n",
              "       'sqft_above', 'sqft_basement', 'yr_built', 'yr_renovated', 'zipcode',\n",
              "       'lat', 'long', 'sqft_living15', 'sqft_lot15'],\n",
              "      dtype='object')"
            ]
          },
          "metadata": {
            "tags": []
          },
          "execution_count": 9
        }
      ]
    },
    {
      "cell_type": "code",
      "metadata": {
        "id": "FRpcqP8n4MPz"
      },
      "source": [
        "X=data[['bedrooms', 'bathrooms', 'sqft_living',\n",
        "       'sqft_lot', 'floors', 'waterfront', 'view', 'condition', 'grade',\n",
        "       'sqft_above', 'sqft_basement',\n",
        "        'sqft_living15', 'sqft_lot15']]"
      ],
      "execution_count": 10,
      "outputs": []
    },
    {
      "cell_type": "code",
      "metadata": {
        "colab": {
          "base_uri": "https://localhost:8080/",
          "height": 417
        },
        "id": "l7HqWSa-4MgB",
        "outputId": "a082492d-7594-4a50-d21b-6b34473e35b4"
      },
      "source": [
        "X"
      ],
      "execution_count": 11,
      "outputs": [
        {
          "output_type": "execute_result",
          "data": {
            "text/html": [
              "<div>\n",
              "<style scoped>\n",
              "    .dataframe tbody tr th:only-of-type {\n",
              "        vertical-align: middle;\n",
              "    }\n",
              "\n",
              "    .dataframe tbody tr th {\n",
              "        vertical-align: top;\n",
              "    }\n",
              "\n",
              "    .dataframe thead th {\n",
              "        text-align: right;\n",
              "    }\n",
              "</style>\n",
              "<table border=\"1\" class=\"dataframe\">\n",
              "  <thead>\n",
              "    <tr style=\"text-align: right;\">\n",
              "      <th></th>\n",
              "      <th>bedrooms</th>\n",
              "      <th>bathrooms</th>\n",
              "      <th>sqft_living</th>\n",
              "      <th>sqft_lot</th>\n",
              "      <th>floors</th>\n",
              "      <th>waterfront</th>\n",
              "      <th>view</th>\n",
              "      <th>condition</th>\n",
              "      <th>grade</th>\n",
              "      <th>sqft_above</th>\n",
              "      <th>sqft_basement</th>\n",
              "      <th>sqft_living15</th>\n",
              "      <th>sqft_lot15</th>\n",
              "    </tr>\n",
              "  </thead>\n",
              "  <tbody>\n",
              "    <tr>\n",
              "      <th>0</th>\n",
              "      <td>3</td>\n",
              "      <td>1.00000</td>\n",
              "      <td>1180</td>\n",
              "      <td>5650</td>\n",
              "      <td>1.00000</td>\n",
              "      <td>0</td>\n",
              "      <td>0</td>\n",
              "      <td>3</td>\n",
              "      <td>7</td>\n",
              "      <td>1180</td>\n",
              "      <td>0</td>\n",
              "      <td>1340</td>\n",
              "      <td>5650</td>\n",
              "    </tr>\n",
              "    <tr>\n",
              "      <th>1</th>\n",
              "      <td>3</td>\n",
              "      <td>2.25000</td>\n",
              "      <td>2570</td>\n",
              "      <td>7242</td>\n",
              "      <td>2.00000</td>\n",
              "      <td>0</td>\n",
              "      <td>0</td>\n",
              "      <td>3</td>\n",
              "      <td>7</td>\n",
              "      <td>2170</td>\n",
              "      <td>400</td>\n",
              "      <td>1690</td>\n",
              "      <td>7639</td>\n",
              "    </tr>\n",
              "    <tr>\n",
              "      <th>2</th>\n",
              "      <td>2</td>\n",
              "      <td>1.00000</td>\n",
              "      <td>770</td>\n",
              "      <td>10000</td>\n",
              "      <td>1.00000</td>\n",
              "      <td>0</td>\n",
              "      <td>0</td>\n",
              "      <td>3</td>\n",
              "      <td>6</td>\n",
              "      <td>770</td>\n",
              "      <td>0</td>\n",
              "      <td>2720</td>\n",
              "      <td>8062</td>\n",
              "    </tr>\n",
              "    <tr>\n",
              "      <th>3</th>\n",
              "      <td>4</td>\n",
              "      <td>3.00000</td>\n",
              "      <td>1960</td>\n",
              "      <td>5000</td>\n",
              "      <td>1.00000</td>\n",
              "      <td>0</td>\n",
              "      <td>0</td>\n",
              "      <td>5</td>\n",
              "      <td>7</td>\n",
              "      <td>1050</td>\n",
              "      <td>910</td>\n",
              "      <td>1360</td>\n",
              "      <td>5000</td>\n",
              "    </tr>\n",
              "    <tr>\n",
              "      <th>4</th>\n",
              "      <td>3</td>\n",
              "      <td>2.00000</td>\n",
              "      <td>1680</td>\n",
              "      <td>8080</td>\n",
              "      <td>1.00000</td>\n",
              "      <td>0</td>\n",
              "      <td>0</td>\n",
              "      <td>3</td>\n",
              "      <td>8</td>\n",
              "      <td>1680</td>\n",
              "      <td>0</td>\n",
              "      <td>1800</td>\n",
              "      <td>7503</td>\n",
              "    </tr>\n",
              "    <tr>\n",
              "      <th>...</th>\n",
              "      <td>...</td>\n",
              "      <td>...</td>\n",
              "      <td>...</td>\n",
              "      <td>...</td>\n",
              "      <td>...</td>\n",
              "      <td>...</td>\n",
              "      <td>...</td>\n",
              "      <td>...</td>\n",
              "      <td>...</td>\n",
              "      <td>...</td>\n",
              "      <td>...</td>\n",
              "      <td>...</td>\n",
              "      <td>...</td>\n",
              "    </tr>\n",
              "    <tr>\n",
              "      <th>21608</th>\n",
              "      <td>3</td>\n",
              "      <td>2.50000</td>\n",
              "      <td>1530</td>\n",
              "      <td>1131</td>\n",
              "      <td>3.00000</td>\n",
              "      <td>0</td>\n",
              "      <td>0</td>\n",
              "      <td>3</td>\n",
              "      <td>8</td>\n",
              "      <td>1530</td>\n",
              "      <td>0</td>\n",
              "      <td>1530</td>\n",
              "      <td>1509</td>\n",
              "    </tr>\n",
              "    <tr>\n",
              "      <th>21609</th>\n",
              "      <td>4</td>\n",
              "      <td>2.50000</td>\n",
              "      <td>2310</td>\n",
              "      <td>5813</td>\n",
              "      <td>2.00000</td>\n",
              "      <td>0</td>\n",
              "      <td>0</td>\n",
              "      <td>3</td>\n",
              "      <td>8</td>\n",
              "      <td>2310</td>\n",
              "      <td>0</td>\n",
              "      <td>1830</td>\n",
              "      <td>7200</td>\n",
              "    </tr>\n",
              "    <tr>\n",
              "      <th>21610</th>\n",
              "      <td>2</td>\n",
              "      <td>0.75000</td>\n",
              "      <td>1020</td>\n",
              "      <td>1350</td>\n",
              "      <td>2.00000</td>\n",
              "      <td>0</td>\n",
              "      <td>0</td>\n",
              "      <td>3</td>\n",
              "      <td>7</td>\n",
              "      <td>1020</td>\n",
              "      <td>0</td>\n",
              "      <td>1020</td>\n",
              "      <td>2007</td>\n",
              "    </tr>\n",
              "    <tr>\n",
              "      <th>21611</th>\n",
              "      <td>3</td>\n",
              "      <td>2.50000</td>\n",
              "      <td>1600</td>\n",
              "      <td>2388</td>\n",
              "      <td>2.00000</td>\n",
              "      <td>0</td>\n",
              "      <td>0</td>\n",
              "      <td>3</td>\n",
              "      <td>8</td>\n",
              "      <td>1600</td>\n",
              "      <td>0</td>\n",
              "      <td>1410</td>\n",
              "      <td>1287</td>\n",
              "    </tr>\n",
              "    <tr>\n",
              "      <th>21612</th>\n",
              "      <td>2</td>\n",
              "      <td>0.75000</td>\n",
              "      <td>1020</td>\n",
              "      <td>1076</td>\n",
              "      <td>2.00000</td>\n",
              "      <td>0</td>\n",
              "      <td>0</td>\n",
              "      <td>3</td>\n",
              "      <td>7</td>\n",
              "      <td>1020</td>\n",
              "      <td>0</td>\n",
              "      <td>1020</td>\n",
              "      <td>1357</td>\n",
              "    </tr>\n",
              "  </tbody>\n",
              "</table>\n",
              "<p>21613 rows × 13 columns</p>\n",
              "</div>"
            ],
            "text/plain": [
              "       bedrooms  bathrooms  ...  sqft_living15  sqft_lot15\n",
              "0             3    1.00000  ...           1340        5650\n",
              "1             3    2.25000  ...           1690        7639\n",
              "2             2    1.00000  ...           2720        8062\n",
              "3             4    3.00000  ...           1360        5000\n",
              "4             3    2.00000  ...           1800        7503\n",
              "...         ...        ...  ...            ...         ...\n",
              "21608         3    2.50000  ...           1530        1509\n",
              "21609         4    2.50000  ...           1830        7200\n",
              "21610         2    0.75000  ...           1020        2007\n",
              "21611         3    2.50000  ...           1410        1287\n",
              "21612         2    0.75000  ...           1020        1357\n",
              "\n",
              "[21613 rows x 13 columns]"
            ]
          },
          "metadata": {
            "tags": []
          },
          "execution_count": 11
        }
      ]
    },
    {
      "cell_type": "code",
      "metadata": {
        "id": "7XrXqtZd4R4U"
      },
      "source": [
        "Y=data['price']"
      ],
      "execution_count": 12,
      "outputs": []
    },
    {
      "cell_type": "code",
      "metadata": {
        "colab": {
          "base_uri": "https://localhost:8080/"
        },
        "id": "ZQEA2nEC4T1k",
        "outputId": "6066924c-2571-44c0-bce3-5c71ce91f916"
      },
      "source": [
        "Y"
      ],
      "execution_count": 13,
      "outputs": [
        {
          "output_type": "execute_result",
          "data": {
            "text/plain": [
              "0       221900.00000\n",
              "1       538000.00000\n",
              "2       180000.00000\n",
              "3       604000.00000\n",
              "4       510000.00000\n",
              "            ...     \n",
              "21608   360000.00000\n",
              "21609   400000.00000\n",
              "21610   402101.00000\n",
              "21611   400000.00000\n",
              "21612   325000.00000\n",
              "Name: price, Length: 21613, dtype: float64"
            ]
          },
          "metadata": {
            "tags": []
          },
          "execution_count": 13
        }
      ]
    },
    {
      "cell_type": "code",
      "metadata": {
        "id": "Po7yuVw14c-2"
      },
      "source": [
        "\n",
        "from sklearn.model_selection import train_test_split"
      ],
      "execution_count": 14,
      "outputs": []
    },
    {
      "cell_type": "code",
      "metadata": {
        "id": "3YUHeMpW4he0"
      },
      "source": [
        "\n",
        "X_train, X_test , Y_train , Y_test = train_test_split(X,Y,test_size=0.25,random_state=101)"
      ],
      "execution_count": 15,
      "outputs": []
    },
    {
      "cell_type": "code",
      "metadata": {
        "colab": {
          "base_uri": "https://localhost:8080/",
          "height": 417
        },
        "id": "bdEJ7GDn4hiR",
        "outputId": "da8764ff-d05e-47a2-b121-c56e03c13e5e"
      },
      "source": [
        "X_train"
      ],
      "execution_count": 16,
      "outputs": [
        {
          "output_type": "execute_result",
          "data": {
            "text/html": [
              "<div>\n",
              "<style scoped>\n",
              "    .dataframe tbody tr th:only-of-type {\n",
              "        vertical-align: middle;\n",
              "    }\n",
              "\n",
              "    .dataframe tbody tr th {\n",
              "        vertical-align: top;\n",
              "    }\n",
              "\n",
              "    .dataframe thead th {\n",
              "        text-align: right;\n",
              "    }\n",
              "</style>\n",
              "<table border=\"1\" class=\"dataframe\">\n",
              "  <thead>\n",
              "    <tr style=\"text-align: right;\">\n",
              "      <th></th>\n",
              "      <th>bedrooms</th>\n",
              "      <th>bathrooms</th>\n",
              "      <th>sqft_living</th>\n",
              "      <th>sqft_lot</th>\n",
              "      <th>floors</th>\n",
              "      <th>waterfront</th>\n",
              "      <th>view</th>\n",
              "      <th>condition</th>\n",
              "      <th>grade</th>\n",
              "      <th>sqft_above</th>\n",
              "      <th>sqft_basement</th>\n",
              "      <th>sqft_living15</th>\n",
              "      <th>sqft_lot15</th>\n",
              "    </tr>\n",
              "  </thead>\n",
              "  <tbody>\n",
              "    <tr>\n",
              "      <th>19642</th>\n",
              "      <td>4</td>\n",
              "      <td>2.50000</td>\n",
              "      <td>2070</td>\n",
              "      <td>4270</td>\n",
              "      <td>2.00000</td>\n",
              "      <td>0</td>\n",
              "      <td>0</td>\n",
              "      <td>3</td>\n",
              "      <td>8</td>\n",
              "      <td>2070</td>\n",
              "      <td>0</td>\n",
              "      <td>2070</td>\n",
              "      <td>4610</td>\n",
              "    </tr>\n",
              "    <tr>\n",
              "      <th>8626</th>\n",
              "      <td>3</td>\n",
              "      <td>2.25000</td>\n",
              "      <td>1400</td>\n",
              "      <td>6970</td>\n",
              "      <td>2.00000</td>\n",
              "      <td>0</td>\n",
              "      <td>0</td>\n",
              "      <td>3</td>\n",
              "      <td>8</td>\n",
              "      <td>1400</td>\n",
              "      <td>0</td>\n",
              "      <td>1800</td>\n",
              "      <td>8140</td>\n",
              "    </tr>\n",
              "    <tr>\n",
              "      <th>6954</th>\n",
              "      <td>5</td>\n",
              "      <td>3.00000</td>\n",
              "      <td>2190</td>\n",
              "      <td>4900</td>\n",
              "      <td>2.00000</td>\n",
              "      <td>0</td>\n",
              "      <td>0</td>\n",
              "      <td>5</td>\n",
              "      <td>7</td>\n",
              "      <td>1490</td>\n",
              "      <td>700</td>\n",
              "      <td>1370</td>\n",
              "      <td>4606</td>\n",
              "    </tr>\n",
              "    <tr>\n",
              "      <th>20242</th>\n",
              "      <td>4</td>\n",
              "      <td>2.50000</td>\n",
              "      <td>2547</td>\n",
              "      <td>4800</td>\n",
              "      <td>2.00000</td>\n",
              "      <td>0</td>\n",
              "      <td>0</td>\n",
              "      <td>3</td>\n",
              "      <td>9</td>\n",
              "      <td>2547</td>\n",
              "      <td>0</td>\n",
              "      <td>2598</td>\n",
              "      <td>4800</td>\n",
              "    </tr>\n",
              "    <tr>\n",
              "      <th>10376</th>\n",
              "      <td>5</td>\n",
              "      <td>3.50000</td>\n",
              "      <td>4060</td>\n",
              "      <td>8309</td>\n",
              "      <td>2.00000</td>\n",
              "      <td>0</td>\n",
              "      <td>0</td>\n",
              "      <td>3</td>\n",
              "      <td>9</td>\n",
              "      <td>2960</td>\n",
              "      <td>1100</td>\n",
              "      <td>1730</td>\n",
              "      <td>11711</td>\n",
              "    </tr>\n",
              "    <tr>\n",
              "      <th>...</th>\n",
              "      <td>...</td>\n",
              "      <td>...</td>\n",
              "      <td>...</td>\n",
              "      <td>...</td>\n",
              "      <td>...</td>\n",
              "      <td>...</td>\n",
              "      <td>...</td>\n",
              "      <td>...</td>\n",
              "      <td>...</td>\n",
              "      <td>...</td>\n",
              "      <td>...</td>\n",
              "      <td>...</td>\n",
              "      <td>...</td>\n",
              "    </tr>\n",
              "    <tr>\n",
              "      <th>5695</th>\n",
              "      <td>3</td>\n",
              "      <td>2.25000</td>\n",
              "      <td>1920</td>\n",
              "      <td>9672</td>\n",
              "      <td>2.00000</td>\n",
              "      <td>0</td>\n",
              "      <td>0</td>\n",
              "      <td>4</td>\n",
              "      <td>8</td>\n",
              "      <td>1920</td>\n",
              "      <td>0</td>\n",
              "      <td>1950</td>\n",
              "      <td>10125</td>\n",
              "    </tr>\n",
              "    <tr>\n",
              "      <th>8006</th>\n",
              "      <td>3</td>\n",
              "      <td>1.00000</td>\n",
              "      <td>1240</td>\n",
              "      <td>3600</td>\n",
              "      <td>1.50000</td>\n",
              "      <td>0</td>\n",
              "      <td>0</td>\n",
              "      <td>3</td>\n",
              "      <td>7</td>\n",
              "      <td>1240</td>\n",
              "      <td>0</td>\n",
              "      <td>1680</td>\n",
              "      <td>3600</td>\n",
              "    </tr>\n",
              "    <tr>\n",
              "      <th>17745</th>\n",
              "      <td>3</td>\n",
              "      <td>2.25000</td>\n",
              "      <td>1780</td>\n",
              "      <td>7332</td>\n",
              "      <td>2.00000</td>\n",
              "      <td>0</td>\n",
              "      <td>0</td>\n",
              "      <td>3</td>\n",
              "      <td>7</td>\n",
              "      <td>1780</td>\n",
              "      <td>0</td>\n",
              "      <td>1510</td>\n",
              "      <td>7625</td>\n",
              "    </tr>\n",
              "    <tr>\n",
              "      <th>17931</th>\n",
              "      <td>2</td>\n",
              "      <td>1.00000</td>\n",
              "      <td>1150</td>\n",
              "      <td>5000</td>\n",
              "      <td>1.00000</td>\n",
              "      <td>0</td>\n",
              "      <td>0</td>\n",
              "      <td>4</td>\n",
              "      <td>7</td>\n",
              "      <td>1050</td>\n",
              "      <td>100</td>\n",
              "      <td>1463</td>\n",
              "      <td>4320</td>\n",
              "    </tr>\n",
              "    <tr>\n",
              "      <th>13151</th>\n",
              "      <td>3</td>\n",
              "      <td>1.00000</td>\n",
              "      <td>1450</td>\n",
              "      <td>7930</td>\n",
              "      <td>1.00000</td>\n",
              "      <td>0</td>\n",
              "      <td>0</td>\n",
              "      <td>4</td>\n",
              "      <td>6</td>\n",
              "      <td>1150</td>\n",
              "      <td>300</td>\n",
              "      <td>1040</td>\n",
              "      <td>7740</td>\n",
              "    </tr>\n",
              "  </tbody>\n",
              "</table>\n",
              "<p>16209 rows × 13 columns</p>\n",
              "</div>"
            ],
            "text/plain": [
              "       bedrooms  bathrooms  ...  sqft_living15  sqft_lot15\n",
              "19642         4    2.50000  ...           2070        4610\n",
              "8626          3    2.25000  ...           1800        8140\n",
              "6954          5    3.00000  ...           1370        4606\n",
              "20242         4    2.50000  ...           2598        4800\n",
              "10376         5    3.50000  ...           1730       11711\n",
              "...         ...        ...  ...            ...         ...\n",
              "5695          3    2.25000  ...           1950       10125\n",
              "8006          3    1.00000  ...           1680        3600\n",
              "17745         3    2.25000  ...           1510        7625\n",
              "17931         2    1.00000  ...           1463        4320\n",
              "13151         3    1.00000  ...           1040        7740\n",
              "\n",
              "[16209 rows x 13 columns]"
            ]
          },
          "metadata": {
            "tags": []
          },
          "execution_count": 16
        }
      ]
    },
    {
      "cell_type": "code",
      "metadata": {
        "colab": {
          "base_uri": "https://localhost:8080/"
        },
        "id": "fCyE9pkp4dO4",
        "outputId": "ec3b7b62-0004-4e6f-8179-18319b404fcd"
      },
      "source": [
        "\n",
        "Y_train"
      ],
      "execution_count": 17,
      "outputs": [
        {
          "output_type": "execute_result",
          "data": {
            "text/plain": [
              "19642   493000.00000\n",
              "8626    425000.00000\n",
              "6954    588000.00000\n",
              "20242   392440.00000\n",
              "10376   630000.00000\n",
              "            ...     \n",
              "5695    625000.00000\n",
              "8006    390000.00000\n",
              "17745   272450.00000\n",
              "17931   552000.00000\n",
              "13151   394000.00000\n",
              "Name: price, Length: 16209, dtype: float64"
            ]
          },
          "metadata": {
            "tags": []
          },
          "execution_count": 17
        }
      ]
    },
    {
      "cell_type": "code",
      "metadata": {
        "colab": {
          "base_uri": "https://localhost:8080/",
          "height": 417
        },
        "id": "cnnh3Cz84s6X",
        "outputId": "32ed2ab8-540a-41a8-c778-462ca13ce71d"
      },
      "source": [
        "X_test"
      ],
      "execution_count": 18,
      "outputs": [
        {
          "output_type": "execute_result",
          "data": {
            "text/html": [
              "<div>\n",
              "<style scoped>\n",
              "    .dataframe tbody tr th:only-of-type {\n",
              "        vertical-align: middle;\n",
              "    }\n",
              "\n",
              "    .dataframe tbody tr th {\n",
              "        vertical-align: top;\n",
              "    }\n",
              "\n",
              "    .dataframe thead th {\n",
              "        text-align: right;\n",
              "    }\n",
              "</style>\n",
              "<table border=\"1\" class=\"dataframe\">\n",
              "  <thead>\n",
              "    <tr style=\"text-align: right;\">\n",
              "      <th></th>\n",
              "      <th>bedrooms</th>\n",
              "      <th>bathrooms</th>\n",
              "      <th>sqft_living</th>\n",
              "      <th>sqft_lot</th>\n",
              "      <th>floors</th>\n",
              "      <th>waterfront</th>\n",
              "      <th>view</th>\n",
              "      <th>condition</th>\n",
              "      <th>grade</th>\n",
              "      <th>sqft_above</th>\n",
              "      <th>sqft_basement</th>\n",
              "      <th>sqft_living15</th>\n",
              "      <th>sqft_lot15</th>\n",
              "    </tr>\n",
              "  </thead>\n",
              "  <tbody>\n",
              "    <tr>\n",
              "      <th>3834</th>\n",
              "      <td>2</td>\n",
              "      <td>1.00000</td>\n",
              "      <td>1050</td>\n",
              "      <td>6317</td>\n",
              "      <td>1.50000</td>\n",
              "      <td>0</td>\n",
              "      <td>0</td>\n",
              "      <td>4</td>\n",
              "      <td>7</td>\n",
              "      <td>1050</td>\n",
              "      <td>0</td>\n",
              "      <td>1600</td>\n",
              "      <td>9616</td>\n",
              "    </tr>\n",
              "    <tr>\n",
              "      <th>1348</th>\n",
              "      <td>4</td>\n",
              "      <td>2.25000</td>\n",
              "      <td>2040</td>\n",
              "      <td>9565</td>\n",
              "      <td>1.00000</td>\n",
              "      <td>0</td>\n",
              "      <td>0</td>\n",
              "      <td>3</td>\n",
              "      <td>8</td>\n",
              "      <td>1400</td>\n",
              "      <td>640</td>\n",
              "      <td>1890</td>\n",
              "      <td>8580</td>\n",
              "    </tr>\n",
              "    <tr>\n",
              "      <th>20366</th>\n",
              "      <td>4</td>\n",
              "      <td>2.50000</td>\n",
              "      <td>2500</td>\n",
              "      <td>4000</td>\n",
              "      <td>2.00000</td>\n",
              "      <td>0</td>\n",
              "      <td>0</td>\n",
              "      <td>3</td>\n",
              "      <td>8</td>\n",
              "      <td>2500</td>\n",
              "      <td>0</td>\n",
              "      <td>1480</td>\n",
              "      <td>4300</td>\n",
              "    </tr>\n",
              "    <tr>\n",
              "      <th>16617</th>\n",
              "      <td>5</td>\n",
              "      <td>2.00000</td>\n",
              "      <td>2360</td>\n",
              "      <td>19899</td>\n",
              "      <td>1.00000</td>\n",
              "      <td>0</td>\n",
              "      <td>0</td>\n",
              "      <td>4</td>\n",
              "      <td>7</td>\n",
              "      <td>2360</td>\n",
              "      <td>0</td>\n",
              "      <td>1860</td>\n",
              "      <td>19998</td>\n",
              "    </tr>\n",
              "    <tr>\n",
              "      <th>20925</th>\n",
              "      <td>3</td>\n",
              "      <td>3.00000</td>\n",
              "      <td>1670</td>\n",
              "      <td>4440</td>\n",
              "      <td>1.00000</td>\n",
              "      <td>0</td>\n",
              "      <td>0</td>\n",
              "      <td>3</td>\n",
              "      <td>7</td>\n",
              "      <td>1670</td>\n",
              "      <td>0</td>\n",
              "      <td>1670</td>\n",
              "      <td>4622</td>\n",
              "    </tr>\n",
              "    <tr>\n",
              "      <th>...</th>\n",
              "      <td>...</td>\n",
              "      <td>...</td>\n",
              "      <td>...</td>\n",
              "      <td>...</td>\n",
              "      <td>...</td>\n",
              "      <td>...</td>\n",
              "      <td>...</td>\n",
              "      <td>...</td>\n",
              "      <td>...</td>\n",
              "      <td>...</td>\n",
              "      <td>...</td>\n",
              "      <td>...</td>\n",
              "      <td>...</td>\n",
              "    </tr>\n",
              "    <tr>\n",
              "      <th>7148</th>\n",
              "      <td>3</td>\n",
              "      <td>1.75000</td>\n",
              "      <td>1520</td>\n",
              "      <td>5500</td>\n",
              "      <td>1.50000</td>\n",
              "      <td>0</td>\n",
              "      <td>0</td>\n",
              "      <td>5</td>\n",
              "      <td>7</td>\n",
              "      <td>1520</td>\n",
              "      <td>0</td>\n",
              "      <td>2310</td>\n",
              "      <td>5500</td>\n",
              "    </tr>\n",
              "    <tr>\n",
              "      <th>2747</th>\n",
              "      <td>5</td>\n",
              "      <td>3.00000</td>\n",
              "      <td>2970</td>\n",
              "      <td>10335</td>\n",
              "      <td>2.00000</td>\n",
              "      <td>0</td>\n",
              "      <td>0</td>\n",
              "      <td>3</td>\n",
              "      <td>9</td>\n",
              "      <td>2970</td>\n",
              "      <td>0</td>\n",
              "      <td>2970</td>\n",
              "      <td>10335</td>\n",
              "    </tr>\n",
              "    <tr>\n",
              "      <th>15565</th>\n",
              "      <td>3</td>\n",
              "      <td>2.50000</td>\n",
              "      <td>3440</td>\n",
              "      <td>103672</td>\n",
              "      <td>2.00000</td>\n",
              "      <td>0</td>\n",
              "      <td>0</td>\n",
              "      <td>3</td>\n",
              "      <td>9</td>\n",
              "      <td>3440</td>\n",
              "      <td>0</td>\n",
              "      <td>2710</td>\n",
              "      <td>112820</td>\n",
              "    </tr>\n",
              "    <tr>\n",
              "      <th>21238</th>\n",
              "      <td>3</td>\n",
              "      <td>2.50000</td>\n",
              "      <td>1572</td>\n",
              "      <td>4000</td>\n",
              "      <td>2.00000</td>\n",
              "      <td>0</td>\n",
              "      <td>0</td>\n",
              "      <td>3</td>\n",
              "      <td>8</td>\n",
              "      <td>1572</td>\n",
              "      <td>0</td>\n",
              "      <td>1608</td>\n",
              "      <td>5175</td>\n",
              "    </tr>\n",
              "    <tr>\n",
              "      <th>2333</th>\n",
              "      <td>3</td>\n",
              "      <td>3.00000</td>\n",
              "      <td>2920</td>\n",
              "      <td>23085</td>\n",
              "      <td>1.50000</td>\n",
              "      <td>0</td>\n",
              "      <td>2</td>\n",
              "      <td>3</td>\n",
              "      <td>7</td>\n",
              "      <td>1540</td>\n",
              "      <td>1380</td>\n",
              "      <td>2270</td>\n",
              "      <td>18180</td>\n",
              "    </tr>\n",
              "  </tbody>\n",
              "</table>\n",
              "<p>5404 rows × 13 columns</p>\n",
              "</div>"
            ],
            "text/plain": [
              "       bedrooms  bathrooms  ...  sqft_living15  sqft_lot15\n",
              "3834          2    1.00000  ...           1600        9616\n",
              "1348          4    2.25000  ...           1890        8580\n",
              "20366         4    2.50000  ...           1480        4300\n",
              "16617         5    2.00000  ...           1860       19998\n",
              "20925         3    3.00000  ...           1670        4622\n",
              "...         ...        ...  ...            ...         ...\n",
              "7148          3    1.75000  ...           2310        5500\n",
              "2747          5    3.00000  ...           2970       10335\n",
              "15565         3    2.50000  ...           2710      112820\n",
              "21238         3    2.50000  ...           1608        5175\n",
              "2333          3    3.00000  ...           2270       18180\n",
              "\n",
              "[5404 rows x 13 columns]"
            ]
          },
          "metadata": {
            "tags": []
          },
          "execution_count": 18
        }
      ]
    },
    {
      "cell_type": "code",
      "metadata": {
        "colab": {
          "base_uri": "https://localhost:8080/"
        },
        "id": "YqVDBqOa4tKQ",
        "outputId": "968d43e7-72af-4ce7-fa2b-c0966da04967"
      },
      "source": [
        "Y_test"
      ],
      "execution_count": 19,
      "outputs": [
        {
          "output_type": "execute_result",
          "data": {
            "text/plain": [
              "3834    349950.00000\n",
              "1348    450000.00000\n",
              "20366   635000.00000\n",
              "16617   355500.00000\n",
              "20925   246950.00000\n",
              "            ...     \n",
              "7148    738000.00000\n",
              "2747    726000.00000\n",
              "15565   560000.00000\n",
              "21238   299000.00000\n",
              "2333    555000.00000\n",
              "Name: price, Length: 5404, dtype: float64"
            ]
          },
          "metadata": {
            "tags": []
          },
          "execution_count": 19
        }
      ]
    },
    {
      "cell_type": "code",
      "metadata": {
        "id": "Jwu7uEvz4z7Y"
      },
      "source": [
        "from sklearn.preprocessing import StandardScaler\n",
        "std=StandardScaler()"
      ],
      "execution_count": 20,
      "outputs": []
    },
    {
      "cell_type": "code",
      "metadata": {
        "id": "NQvlSMMk48Ew"
      },
      "source": [
        "\n",
        "X_train_std=std.fit_transform(X_train)\n",
        "X_test_std=std.transform(X_test)"
      ],
      "execution_count": 21,
      "outputs": []
    },
    {
      "cell_type": "code",
      "metadata": {
        "colab": {
          "base_uri": "https://localhost:8080/"
        },
        "id": "_HKBNMgs5DV0",
        "outputId": "675a791d-d0fd-4c08-dc30-a3a61b1a73d4"
      },
      "source": [
        "X_train_std"
      ],
      "execution_count": 22,
      "outputs": [
        {
          "output_type": "execute_result",
          "data": {
            "text/plain": [
              "array([[ 0.69608634,  0.49894508, -0.00810266, ..., -0.65896096,\n",
              "         0.12372791, -0.29371924],\n",
              "       [-0.40802008,  0.173745  , -0.74457445, ..., -0.65896096,\n",
              "        -0.27289927, -0.16524962],\n",
              "       [ 1.80019275,  1.14934525,  0.12380274, ...,  0.93301185,\n",
              "        -0.90456477, -0.29386481],\n",
              "       ...,\n",
              "       [-0.40802008,  0.173745  , -0.32687403, ..., -0.65896096,\n",
              "        -0.69890623, -0.18399236],\n",
              "       [-1.51212649, -1.45225542, -1.01937736, ..., -0.43153627,\n",
              "        -0.76794874, -0.3042734 ],\n",
              "       [-0.40802008, -1.45225542, -0.68961387, ...,  0.0233131 ,\n",
              "        -1.38933131, -0.17980708]])"
            ]
          },
          "metadata": {
            "tags": []
          },
          "execution_count": 22
        }
      ]
    },
    {
      "cell_type": "code",
      "metadata": {
        "colab": {
          "base_uri": "https://localhost:8080/"
        },
        "id": "irdR5VrZ5DkN",
        "outputId": "208712c7-bbdf-4203-f320-1bd12e2d3a84"
      },
      "source": [
        "X_test_std"
      ],
      "execution_count": 23,
      "outputs": [
        {
          "output_type": "execute_result",
          "data": {
            "text/plain": [
              "array([[-1.51212649, -1.45225542, -1.12929852, ..., -0.65896096,\n",
              "        -0.56669717, -0.11153258],\n",
              "       [ 0.69608634,  0.173745  , -0.04107901, ...,  0.79655703,\n",
              "        -0.14069021, -0.14923641],\n",
              "       [ 0.69608634,  0.49894508,  0.46455834, ..., -0.65896096,\n",
              "        -0.74297592, -0.30500127],\n",
              "       ...,\n",
              "       [-0.40802008,  0.49894508,  1.49781727, ..., -0.65896096,\n",
              "         1.06388121,  3.64443868],\n",
              "       [-0.40802008,  0.49894508, -0.55551005, ..., -0.65896096,\n",
              "        -0.55494526, -0.27315682],\n",
              "       [-0.40802008,  1.14934525,  0.92622723, ...,  2.47949972,\n",
              "         0.41752581,  0.20014272]])"
            ]
          },
          "metadata": {
            "tags": []
          },
          "execution_count": 23
        }
      ]
    },
    {
      "cell_type": "code",
      "metadata": {
        "id": "-BdqrF235Jb9"
      },
      "source": [
        "from sklearn.linear_model import LinearRegression\n",
        "lr=LinearRegression()"
      ],
      "execution_count": 26,
      "outputs": []
    },
    {
      "cell_type": "code",
      "metadata": {
        "colab": {
          "base_uri": "https://localhost:8080/"
        },
        "id": "U9hJdjpP5JuW",
        "outputId": "dd86a412-6fe2-4c8d-9ab9-aee4a6bdd6ef"
      },
      "source": [
        "\n",
        "lr.fit(X_train_std,Y_train)"
      ],
      "execution_count": 27,
      "outputs": [
        {
          "output_type": "execute_result",
          "data": {
            "text/plain": [
              "LinearRegression(copy_X=True, fit_intercept=True, n_jobs=None, normalize=False)"
            ]
          },
          "metadata": {
            "tags": []
          },
          "execution_count": 27
        }
      ]
    },
    {
      "cell_type": "code",
      "metadata": {
        "id": "048HDQfP5W-q"
      },
      "source": [
        "Y_pred=lr.predict(X_test_std)"
      ],
      "execution_count": 28,
      "outputs": []
    },
    {
      "cell_type": "code",
      "metadata": {
        "colab": {
          "base_uri": "https://localhost:8080/"
        },
        "id": "3vhLaJB-5n8r",
        "outputId": "c5c87d76-b886-45af-a1db-120e04021205"
      },
      "source": [
        "\n",
        "Y_pred"
      ],
      "execution_count": 29,
      "outputs": [
        {
          "output_type": "execute_result",
          "data": {
            "text/plain": [
              "array([356776.02589275, 511927.33428643, 573736.52389151, ...,\n",
              "       824101.44697874, 437013.51415353, 731915.82170728])"
            ]
          },
          "metadata": {
            "tags": []
          },
          "execution_count": 29
        }
      ]
    },
    {
      "cell_type": "code",
      "metadata": {
        "colab": {
          "base_uri": "https://localhost:8080/"
        },
        "id": "UURJ4ikJ5rny",
        "outputId": "8931fd03-fcc9-4760-f239-592d4ffd77e3"
      },
      "source": [
        "Y_test"
      ],
      "execution_count": 30,
      "outputs": [
        {
          "output_type": "execute_result",
          "data": {
            "text/plain": [
              "3834    349950.00000\n",
              "1348    450000.00000\n",
              "20366   635000.00000\n",
              "16617   355500.00000\n",
              "20925   246950.00000\n",
              "            ...     \n",
              "7148    738000.00000\n",
              "2747    726000.00000\n",
              "15565   560000.00000\n",
              "21238   299000.00000\n",
              "2333    555000.00000\n",
              "Name: price, Length: 5404, dtype: float64"
            ]
          },
          "metadata": {
            "tags": []
          },
          "execution_count": 30
        }
      ]
    },
    {
      "cell_type": "code",
      "metadata": {
        "id": "MgKWEnJs5rrO"
      },
      "source": [
        "\n",
        "from sklearn.metrics import mean_absolute_error,r2_score"
      ],
      "execution_count": 31,
      "outputs": []
    },
    {
      "cell_type": "code",
      "metadata": {
        "colab": {
          "base_uri": "https://localhost:8080/"
        },
        "id": "j9pZEZ475z7-",
        "outputId": "7487e0a6-8113-47b3-96c1-89ea2567faf3"
      },
      "source": [
        "\n",
        "mean_absolute_error(Y_test,Y_pred)"
      ],
      "execution_count": 32,
      "outputs": [
        {
          "output_type": "execute_result",
          "data": {
            "text/plain": [
              "151500.53601090197"
            ]
          },
          "metadata": {
            "tags": []
          },
          "execution_count": 32
        }
      ]
    },
    {
      "cell_type": "code",
      "metadata": {
        "colab": {
          "base_uri": "https://localhost:8080/",
          "height": 417
        },
        "id": "6FIeXnDz53GM",
        "outputId": "21bc2b24-6c95-4a1a-e386-096717cbee7a"
      },
      "source": [
        "X_test"
      ],
      "execution_count": 33,
      "outputs": [
        {
          "output_type": "execute_result",
          "data": {
            "text/html": [
              "<div>\n",
              "<style scoped>\n",
              "    .dataframe tbody tr th:only-of-type {\n",
              "        vertical-align: middle;\n",
              "    }\n",
              "\n",
              "    .dataframe tbody tr th {\n",
              "        vertical-align: top;\n",
              "    }\n",
              "\n",
              "    .dataframe thead th {\n",
              "        text-align: right;\n",
              "    }\n",
              "</style>\n",
              "<table border=\"1\" class=\"dataframe\">\n",
              "  <thead>\n",
              "    <tr style=\"text-align: right;\">\n",
              "      <th></th>\n",
              "      <th>bedrooms</th>\n",
              "      <th>bathrooms</th>\n",
              "      <th>sqft_living</th>\n",
              "      <th>sqft_lot</th>\n",
              "      <th>floors</th>\n",
              "      <th>waterfront</th>\n",
              "      <th>view</th>\n",
              "      <th>condition</th>\n",
              "      <th>grade</th>\n",
              "      <th>sqft_above</th>\n",
              "      <th>sqft_basement</th>\n",
              "      <th>sqft_living15</th>\n",
              "      <th>sqft_lot15</th>\n",
              "    </tr>\n",
              "  </thead>\n",
              "  <tbody>\n",
              "    <tr>\n",
              "      <th>3834</th>\n",
              "      <td>2</td>\n",
              "      <td>1.00000</td>\n",
              "      <td>1050</td>\n",
              "      <td>6317</td>\n",
              "      <td>1.50000</td>\n",
              "      <td>0</td>\n",
              "      <td>0</td>\n",
              "      <td>4</td>\n",
              "      <td>7</td>\n",
              "      <td>1050</td>\n",
              "      <td>0</td>\n",
              "      <td>1600</td>\n",
              "      <td>9616</td>\n",
              "    </tr>\n",
              "    <tr>\n",
              "      <th>1348</th>\n",
              "      <td>4</td>\n",
              "      <td>2.25000</td>\n",
              "      <td>2040</td>\n",
              "      <td>9565</td>\n",
              "      <td>1.00000</td>\n",
              "      <td>0</td>\n",
              "      <td>0</td>\n",
              "      <td>3</td>\n",
              "      <td>8</td>\n",
              "      <td>1400</td>\n",
              "      <td>640</td>\n",
              "      <td>1890</td>\n",
              "      <td>8580</td>\n",
              "    </tr>\n",
              "    <tr>\n",
              "      <th>20366</th>\n",
              "      <td>4</td>\n",
              "      <td>2.50000</td>\n",
              "      <td>2500</td>\n",
              "      <td>4000</td>\n",
              "      <td>2.00000</td>\n",
              "      <td>0</td>\n",
              "      <td>0</td>\n",
              "      <td>3</td>\n",
              "      <td>8</td>\n",
              "      <td>2500</td>\n",
              "      <td>0</td>\n",
              "      <td>1480</td>\n",
              "      <td>4300</td>\n",
              "    </tr>\n",
              "    <tr>\n",
              "      <th>16617</th>\n",
              "      <td>5</td>\n",
              "      <td>2.00000</td>\n",
              "      <td>2360</td>\n",
              "      <td>19899</td>\n",
              "      <td>1.00000</td>\n",
              "      <td>0</td>\n",
              "      <td>0</td>\n",
              "      <td>4</td>\n",
              "      <td>7</td>\n",
              "      <td>2360</td>\n",
              "      <td>0</td>\n",
              "      <td>1860</td>\n",
              "      <td>19998</td>\n",
              "    </tr>\n",
              "    <tr>\n",
              "      <th>20925</th>\n",
              "      <td>3</td>\n",
              "      <td>3.00000</td>\n",
              "      <td>1670</td>\n",
              "      <td>4440</td>\n",
              "      <td>1.00000</td>\n",
              "      <td>0</td>\n",
              "      <td>0</td>\n",
              "      <td>3</td>\n",
              "      <td>7</td>\n",
              "      <td>1670</td>\n",
              "      <td>0</td>\n",
              "      <td>1670</td>\n",
              "      <td>4622</td>\n",
              "    </tr>\n",
              "    <tr>\n",
              "      <th>...</th>\n",
              "      <td>...</td>\n",
              "      <td>...</td>\n",
              "      <td>...</td>\n",
              "      <td>...</td>\n",
              "      <td>...</td>\n",
              "      <td>...</td>\n",
              "      <td>...</td>\n",
              "      <td>...</td>\n",
              "      <td>...</td>\n",
              "      <td>...</td>\n",
              "      <td>...</td>\n",
              "      <td>...</td>\n",
              "      <td>...</td>\n",
              "    </tr>\n",
              "    <tr>\n",
              "      <th>7148</th>\n",
              "      <td>3</td>\n",
              "      <td>1.75000</td>\n",
              "      <td>1520</td>\n",
              "      <td>5500</td>\n",
              "      <td>1.50000</td>\n",
              "      <td>0</td>\n",
              "      <td>0</td>\n",
              "      <td>5</td>\n",
              "      <td>7</td>\n",
              "      <td>1520</td>\n",
              "      <td>0</td>\n",
              "      <td>2310</td>\n",
              "      <td>5500</td>\n",
              "    </tr>\n",
              "    <tr>\n",
              "      <th>2747</th>\n",
              "      <td>5</td>\n",
              "      <td>3.00000</td>\n",
              "      <td>2970</td>\n",
              "      <td>10335</td>\n",
              "      <td>2.00000</td>\n",
              "      <td>0</td>\n",
              "      <td>0</td>\n",
              "      <td>3</td>\n",
              "      <td>9</td>\n",
              "      <td>2970</td>\n",
              "      <td>0</td>\n",
              "      <td>2970</td>\n",
              "      <td>10335</td>\n",
              "    </tr>\n",
              "    <tr>\n",
              "      <th>15565</th>\n",
              "      <td>3</td>\n",
              "      <td>2.50000</td>\n",
              "      <td>3440</td>\n",
              "      <td>103672</td>\n",
              "      <td>2.00000</td>\n",
              "      <td>0</td>\n",
              "      <td>0</td>\n",
              "      <td>3</td>\n",
              "      <td>9</td>\n",
              "      <td>3440</td>\n",
              "      <td>0</td>\n",
              "      <td>2710</td>\n",
              "      <td>112820</td>\n",
              "    </tr>\n",
              "    <tr>\n",
              "      <th>21238</th>\n",
              "      <td>3</td>\n",
              "      <td>2.50000</td>\n",
              "      <td>1572</td>\n",
              "      <td>4000</td>\n",
              "      <td>2.00000</td>\n",
              "      <td>0</td>\n",
              "      <td>0</td>\n",
              "      <td>3</td>\n",
              "      <td>8</td>\n",
              "      <td>1572</td>\n",
              "      <td>0</td>\n",
              "      <td>1608</td>\n",
              "      <td>5175</td>\n",
              "    </tr>\n",
              "    <tr>\n",
              "      <th>2333</th>\n",
              "      <td>3</td>\n",
              "      <td>3.00000</td>\n",
              "      <td>2920</td>\n",
              "      <td>23085</td>\n",
              "      <td>1.50000</td>\n",
              "      <td>0</td>\n",
              "      <td>2</td>\n",
              "      <td>3</td>\n",
              "      <td>7</td>\n",
              "      <td>1540</td>\n",
              "      <td>1380</td>\n",
              "      <td>2270</td>\n",
              "      <td>18180</td>\n",
              "    </tr>\n",
              "  </tbody>\n",
              "</table>\n",
              "<p>5404 rows × 13 columns</p>\n",
              "</div>"
            ],
            "text/plain": [
              "       bedrooms  bathrooms  ...  sqft_living15  sqft_lot15\n",
              "3834          2    1.00000  ...           1600        9616\n",
              "1348          4    2.25000  ...           1890        8580\n",
              "20366         4    2.50000  ...           1480        4300\n",
              "16617         5    2.00000  ...           1860       19998\n",
              "20925         3    3.00000  ...           1670        4622\n",
              "...         ...        ...  ...            ...         ...\n",
              "7148          3    1.75000  ...           2310        5500\n",
              "2747          5    3.00000  ...           2970       10335\n",
              "15565         3    2.50000  ...           2710      112820\n",
              "21238         3    2.50000  ...           1608        5175\n",
              "2333          3    3.00000  ...           2270       18180\n",
              "\n",
              "[5404 rows x 13 columns]"
            ]
          },
          "metadata": {
            "tags": []
          },
          "execution_count": 33
        }
      ]
    },
    {
      "cell_type": "code",
      "metadata": {
        "colab": {
          "base_uri": "https://localhost:8080/"
        },
        "id": "QU69G9wh53W1",
        "outputId": "1d5f75c4-70e9-4c57-b0f3-040155d81cf7"
      },
      "source": [
        "X_test.loc[2333]"
      ],
      "execution_count": 41,
      "outputs": [
        {
          "output_type": "execute_result",
          "data": {
            "text/plain": [
              "bedrooms            3.00000\n",
              "bathrooms           3.00000\n",
              "sqft_living      2920.00000\n",
              "sqft_lot        23085.00000\n",
              "floors              1.50000\n",
              "waterfront          0.00000\n",
              "view                2.00000\n",
              "condition           3.00000\n",
              "grade               7.00000\n",
              "sqft_above       1540.00000\n",
              "sqft_basement    1380.00000\n",
              "sqft_living15    2270.00000\n",
              "sqft_lot15      18180.00000\n",
              "Name: 2333, dtype: float64"
            ]
          },
          "metadata": {
            "tags": []
          },
          "execution_count": 41
        }
      ]
    },
    {
      "cell_type": "code",
      "metadata": {
        "colab": {
          "base_uri": "https://localhost:8080/"
        },
        "id": "vQyLwDFD6fJd",
        "outputId": "2471c644-121d-40d8-9fda-6a0a1357ac11"
      },
      "source": [
        "Y_test.loc[2333]"
      ],
      "execution_count": 42,
      "outputs": [
        {
          "output_type": "execute_result",
          "data": {
            "text/plain": [
              "555000.0"
            ]
          },
          "metadata": {
            "tags": []
          },
          "execution_count": 42
        }
      ]
    },
    {
      "cell_type": "code",
      "metadata": {
        "colab": {
          "base_uri": "https://localhost:8080/"
        },
        "id": "AbRXBRDW53eW",
        "outputId": "6dd9bbe8-519a-47fc-8680-19816d7dd56c"
      },
      "source": [
        "\n",
        "r2_score(Y_test,Y_pred)"
      ],
      "execution_count": 35,
      "outputs": [
        {
          "output_type": "execute_result",
          "data": {
            "text/plain": [
              "0.6211653492243892"
            ]
          },
          "metadata": {
            "tags": []
          },
          "execution_count": 35
        }
      ]
    },
    {
      "cell_type": "code",
      "metadata": {
        "id": "5TKmW6oN53hz"
      },
      "source": [
        "new_house=[[3,3,2920,23085,1,0,2,3,7,1540,1380,2270,18180]]"
      ],
      "execution_count": 43,
      "outputs": []
    },
    {
      "cell_type": "code",
      "metadata": {
        "id": "wMfYzoSk6KSx"
      },
      "source": [
        "new_house_std=std.transform(new_house)"
      ],
      "execution_count": 44,
      "outputs": []
    },
    {
      "cell_type": "code",
      "metadata": {
        "colab": {
          "base_uri": "https://localhost:8080/"
        },
        "id": "lbaool6y6KVa",
        "outputId": "46877e2d-df12-4f1b-f740-7c6ab14cf627"
      },
      "source": [
        "new_house_std"
      ],
      "execution_count": 45,
      "outputs": [
        {
          "output_type": "execute_result",
          "data": {
            "text/plain": [
              "array([[-0.40802008,  1.14934525,  0.92622723,  0.18747471, -0.91886978,\n",
              "        -0.08921717,  2.27710524, -0.62682707, -0.55954731, -0.30112111,\n",
              "         2.47949972,  0.41752581,  0.20014272]])"
            ]
          },
          "metadata": {
            "tags": []
          },
          "execution_count": 45
        }
      ]
    },
    {
      "cell_type": "code",
      "metadata": {
        "colab": {
          "base_uri": "https://localhost:8080/"
        },
        "id": "VW2bk_-n6KYz",
        "outputId": "34165721-c28b-49e4-d73b-3655ec9e2977"
      },
      "source": [
        "\n",
        "int(lr.predict(new_house_std))"
      ],
      "execution_count": 46,
      "outputs": [
        {
          "output_type": "execute_result",
          "data": {
            "text/plain": [
              "731397"
            ]
          },
          "metadata": {
            "tags": []
          },
          "execution_count": 46
        }
      ]
    }
  ]
}